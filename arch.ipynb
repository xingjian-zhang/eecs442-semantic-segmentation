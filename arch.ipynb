{
 "cells": [
  {
   "cell_type": "code",
   "execution_count": 1,
   "metadata": {},
   "outputs": [],
   "source": [
    "from unet import UNet\n",
    "import torch"
   ]
  },
  {
   "cell_type": "code",
   "execution_count": 6,
   "metadata": {},
   "outputs": [],
   "source": [
    "net = UNet(19, 5, 64, False)"
   ]
  },
  {
   "cell_type": "code",
   "execution_count": 5,
   "metadata": {},
   "outputs": [],
   "source": [
    "from torchsummary import summary"
   ]
  },
  {
   "cell_type": "code",
   "execution_count": 10,
   "metadata": {},
   "outputs": [
    {
     "name": "stdout",
     "output_type": "stream",
     "text": [
      "----------------------------------------------------------------\n",
      "        Layer (type)               Output Shape         Param #\n",
      "================================================================\n",
      "            Conv2d-1         [-1, 64, 256, 256]           1,792\n",
      "       BatchNorm2d-2         [-1, 64, 256, 256]             128\n",
      "              ReLU-3         [-1, 64, 256, 256]               0\n",
      "            Conv2d-4         [-1, 64, 256, 256]          36,928\n",
      "       BatchNorm2d-5         [-1, 64, 256, 256]             128\n",
      "              ReLU-6         [-1, 64, 256, 256]               0\n",
      "    DoubleConvUnit-7         [-1, 64, 256, 256]               0\n",
      "         MaxPool2d-8         [-1, 64, 128, 128]               0\n",
      "            Conv2d-9        [-1, 128, 128, 128]          73,856\n",
      "      BatchNorm2d-10        [-1, 128, 128, 128]             256\n",
      "             ReLU-11        [-1, 128, 128, 128]               0\n",
      "           Conv2d-12        [-1, 128, 128, 128]         147,584\n",
      "      BatchNorm2d-13        [-1, 128, 128, 128]             256\n",
      "             ReLU-14        [-1, 128, 128, 128]               0\n",
      "   DoubleConvUnit-15        [-1, 128, 128, 128]               0\n",
      "   DownSampleUnit-16        [-1, 128, 128, 128]               0\n",
      "        MaxPool2d-17          [-1, 128, 64, 64]               0\n",
      "           Conv2d-18          [-1, 256, 64, 64]         295,168\n",
      "      BatchNorm2d-19          [-1, 256, 64, 64]             512\n",
      "             ReLU-20          [-1, 256, 64, 64]               0\n",
      "           Conv2d-21          [-1, 256, 64, 64]         590,080\n",
      "      BatchNorm2d-22          [-1, 256, 64, 64]             512\n",
      "             ReLU-23          [-1, 256, 64, 64]               0\n",
      "   DoubleConvUnit-24          [-1, 256, 64, 64]               0\n",
      "   DownSampleUnit-25          [-1, 256, 64, 64]               0\n",
      "        MaxPool2d-26          [-1, 256, 32, 32]               0\n",
      "           Conv2d-27          [-1, 512, 32, 32]       1,180,160\n",
      "      BatchNorm2d-28          [-1, 512, 32, 32]           1,024\n",
      "             ReLU-29          [-1, 512, 32, 32]               0\n",
      "           Conv2d-30          [-1, 512, 32, 32]       2,359,808\n",
      "      BatchNorm2d-31          [-1, 512, 32, 32]           1,024\n",
      "             ReLU-32          [-1, 512, 32, 32]               0\n",
      "   DoubleConvUnit-33          [-1, 512, 32, 32]               0\n",
      "   DownSampleUnit-34          [-1, 512, 32, 32]               0\n",
      "        MaxPool2d-35          [-1, 512, 16, 16]               0\n",
      "           Conv2d-36         [-1, 1024, 16, 16]       4,719,616\n",
      "      BatchNorm2d-37         [-1, 1024, 16, 16]           2,048\n",
      "             ReLU-38         [-1, 1024, 16, 16]               0\n",
      "           Conv2d-39         [-1, 1024, 16, 16]       9,438,208\n",
      "      BatchNorm2d-40         [-1, 1024, 16, 16]           2,048\n",
      "             ReLU-41         [-1, 1024, 16, 16]               0\n",
      "   DoubleConvUnit-42         [-1, 1024, 16, 16]               0\n",
      "   DownSampleUnit-43         [-1, 1024, 16, 16]               0\n",
      "  ConvTranspose2d-44          [-1, 512, 32, 32]       2,097,664\n",
      "           Conv2d-45          [-1, 512, 32, 32]       4,719,104\n",
      "      BatchNorm2d-46          [-1, 512, 32, 32]           1,024\n",
      "             ReLU-47          [-1, 512, 32, 32]               0\n",
      "           Conv2d-48          [-1, 512, 32, 32]       2,359,808\n",
      "      BatchNorm2d-49          [-1, 512, 32, 32]           1,024\n",
      "             ReLU-50          [-1, 512, 32, 32]               0\n",
      "   DoubleConvUnit-51          [-1, 512, 32, 32]               0\n",
      "     UpSampleUnit-52          [-1, 512, 32, 32]               0\n",
      "  ConvTranspose2d-53          [-1, 256, 64, 64]         524,544\n",
      "           Conv2d-54          [-1, 256, 64, 64]       1,179,904\n",
      "      BatchNorm2d-55          [-1, 256, 64, 64]             512\n",
      "             ReLU-56          [-1, 256, 64, 64]               0\n",
      "           Conv2d-57          [-1, 256, 64, 64]         590,080\n",
      "      BatchNorm2d-58          [-1, 256, 64, 64]             512\n",
      "             ReLU-59          [-1, 256, 64, 64]               0\n",
      "   DoubleConvUnit-60          [-1, 256, 64, 64]               0\n",
      "     UpSampleUnit-61          [-1, 256, 64, 64]               0\n",
      "  ConvTranspose2d-62        [-1, 128, 128, 128]         131,200\n",
      "           Conv2d-63        [-1, 128, 128, 128]         295,040\n",
      "      BatchNorm2d-64        [-1, 128, 128, 128]             256\n",
      "             ReLU-65        [-1, 128, 128, 128]               0\n",
      "           Conv2d-66        [-1, 128, 128, 128]         147,584\n",
      "      BatchNorm2d-67        [-1, 128, 128, 128]             256\n",
      "             ReLU-68        [-1, 128, 128, 128]               0\n",
      "   DoubleConvUnit-69        [-1, 128, 128, 128]               0\n",
      "     UpSampleUnit-70        [-1, 128, 128, 128]               0\n",
      "  ConvTranspose2d-71         [-1, 64, 256, 256]          32,832\n",
      "           Conv2d-72         [-1, 64, 256, 256]          73,792\n",
      "      BatchNorm2d-73         [-1, 64, 256, 256]             128\n",
      "             ReLU-74         [-1, 64, 256, 256]               0\n",
      "           Conv2d-75         [-1, 64, 256, 256]          36,928\n",
      "      BatchNorm2d-76         [-1, 64, 256, 256]             128\n",
      "             ReLU-77         [-1, 64, 256, 256]               0\n",
      "   DoubleConvUnit-78         [-1, 64, 256, 256]               0\n",
      "     UpSampleUnit-79         [-1, 64, 256, 256]               0\n",
      "           Conv2d-80         [-1, 19, 256, 256]           1,235\n",
      "================================================================\n",
      "Total params: 31,044,691\n",
      "Trainable params: 31,044,691\n",
      "Non-trainable params: 0\n",
      "----------------------------------------------------------------\n",
      "Input size (MB): 0.75\n",
      "Forward/backward pass size (MB): 1028.50\n",
      "Params size (MB): 118.43\n",
      "Estimated Total Size (MB): 1147.68\n",
      "----------------------------------------------------------------\n"
     ]
    }
   ],
   "source": [
    "summary(net, [(3, 256, 256)])"
   ]
  },
  {
   "cell_type": "code",
   "execution_count": null,
   "metadata": {},
   "outputs": [],
   "source": []
  }
 ],
 "metadata": {
  "interpreter": {
   "hash": "daec552f8cd1a4be722f66ae1368de98cb2cbd0ec89aa39a137567629d6ea64d"
  },
  "kernelspec": {
   "display_name": "Python 3.9.7 64-bit ('sci': conda)",
   "language": "python",
   "name": "python3"
  },
  "language_info": {
   "codemirror_mode": {
    "name": "ipython",
    "version": 3
   },
   "file_extension": ".py",
   "mimetype": "text/x-python",
   "name": "python",
   "nbconvert_exporter": "python",
   "pygments_lexer": "ipython3",
   "version": "3.9.7"
  },
  "orig_nbformat": 4
 },
 "nbformat": 4,
 "nbformat_minor": 2
}
